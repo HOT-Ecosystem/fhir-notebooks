{
 "cells": [
  {
   "cell_type": "markdown",
   "metadata": {
    "collapsed": true,
    "pycharm": {
     "name": "#%% md\n"
    }
   },
   "source": [
    "# FHIR Client Experiments\n",
    "\n",
    "Here fhirclient is being tested to connect to a FHIR-based terminology server by LOINC at\n",
    "https://fhir.loinc.org. \n",
    "\n",
    "The LOINC terminology server is based on smile CDR, a vendor clinical data repository. \n",
    "Underneath the cover, as of September 15th, 2019, it's at BETA release, uses HAPI FHIR (4.0.0-snapshot), and \n",
    "the endpoints emit FHIR 3.0.1.\n",
    "\n",
    "All requests to LOINC's FHIR terminology server require basic authentication with a LOINC \n",
    "username and password. \n",
    "\n",
    "### Install required packages"
   ]
  },
  {
   "cell_type": "code",
   "execution_count": 1,
   "outputs": [
    {
     "name": "stdout",
     "text": [
      "Requirement already satisfied: fhirclient in /usr/local/lib/python3.7/site-packages (3.2.0)\r\nRequirement already satisfied: isodate in /usr/local/lib/python3.7/site-packages (from fhirclient) (0.6.0)\r\nRequirement already satisfied: requests in /usr/local/lib/python3.7/site-packages (from fhirclient) (2.22.0)\r\n",
      "Requirement already satisfied: six in /usr/local/lib/python3.7/site-packages (from isodate->fhirclient) (1.12.0)\r\nRequirement already satisfied: chardet<3.1.0,>=3.0.2 in /usr/local/lib/python3.7/site-packages (from requests->fhirclient) (3.0.4)\r\nRequirement already satisfied: urllib3!=1.25.0,!=1.25.1,<1.26,>=1.21.1 in /usr/local/lib/python3.7/site-packages (from requests->fhirclient) (1.25.3)\r\nRequirement already satisfied: idna<2.9,>=2.5 in /usr/local/lib/python3.7/site-packages (from requests->fhirclient) (2.8)\r\nRequirement already satisfied: certifi>=2017.4.17 in /usr/local/lib/python3.7/site-packages (from requests->fhirclient) (2019.9.11)\r\n"
     ],
     "output_type": "stream"
    }
   ],
   "source": [
    "!pip install fhirclient"
   ],
   "metadata": {
    "collapsed": false,
    "pycharm": {
     "name": "#%%\n",
     "is_executing": false
    }
   }
  },
  {
   "cell_type": "markdown",
   "source": [
    "## Basic Authentication\n",
    "\n",
    "fhirclient doesn't support basic authenticatio which is required by the LOINC FHIR server. \n",
    "\n",
    "Below is an extension of fhirclient.auth.FHIRAuth to support basic authentication. "
   ],
   "metadata": {
    "collapsed": false,
    "pycharm": {
     "name": "#%% md\n"
    }
   }
  },
  {
   "cell_type": "code",
   "execution_count": 2,
   "outputs": [],
   "source": [
    "from fhirclient.auth import FHIRAuth\n",
    "from base64 import b64encode\n",
    "\n",
    "class FHIRBasicAuth(FHIRAuth):\n",
    "  auth_type = 'basic'\n",
    "  \n",
    "  def __init__(self, state=None, username=None, password=None):\n",
    "    if username is not None and password is not None:\n",
    "      self.logon(username, password)\n",
    "    else:\n",
    "      self._user_pass = None\n",
    "    super(FHIRBasicAuth, self).__init__(state=state)    \n",
    "  \n",
    "  @property\n",
    "  def ready(self):\n",
    "    return True if self._user_pass is not None else False\n",
    "  \n",
    "  def reset(self):\n",
    "    super(FHIRBasicAuth, self).reset()\n",
    "    self._user_pass = None\n",
    "    \n",
    "  def logon(self, username, password):\n",
    "    self._user_pass = b64encode(bytes(f\"{username}:{password}\", encoding='utf-8')).decode(\"ascii\")\n",
    "  \n",
    "  def can_sign_headers(self):\n",
    "    return True if self._user_pass is not None else False\n",
    "  \n",
    "  def signed_headers(self, headers):\n",
    "    \"\"\" Returns updated HTTP headers. Raises if there is no username/password\"\"\"\n",
    "    if not self.can_sign_headers():\n",
    "      raise Exception(\"Cannot sign headers since there is no username/password\")\n",
    "    \n",
    "    headers = headers or {}\n",
    "    headers['Authorization'] = f\"Basic {self._user_pass}\"\n",
    "    \n",
    "    return headers \n",
    "# register the class. Only need to run once. \n",
    "try:\n",
    "  FHIRBasicAuth.register()\n",
    "except Exception as e:\n",
    "  print(f\"Failed to register FHIRBasicAuth: {str(e)}\")"
   ],
   "metadata": {
    "collapsed": false,
    "pycharm": {
     "name": "#%%\n",
     "is_executing": false
    }
   }
  },
  {
   "cell_type": "markdown",
   "source": [
    "The FHIRServer by default only instantiate a FHIRAuth object *after* reading the CapabilityStatemnt \n",
    "(<fhir_base_uri>/metadata). So we need to add a server implementation that would accept FHIRAuth when \n",
    "it is created. "
   ],
   "metadata": {
    "collapsed": false,
    "pycharm": {
     "name": "#%% md\n"
    }
   }
  },
  {
   "cell_type": "code",
   "execution_count": 3,
   "outputs": [],
   "source": [
    "from fhirclient.server import FHIRServer\n",
    "class FHIRAuthServer(FHIRServer):\n",
    "  def __init__(self, client, base_uri=None, state=None, auth=None):\n",
    "    super(FHIRAuthServer, self).__init__(client, base_uri, state)\n",
    "    self.auth = auth"
   ],
   "metadata": {
    "collapsed": false,
    "pycharm": {
     "name": "#%%\n",
     "is_executing": false
    }
   }
  },
  {
   "cell_type": "markdown",
   "source": [
    "Now it's ready to read from the LOINC FHIR server. First get the username and password from user. "
   ],
   "metadata": {
    "collapsed": false,
    "pycharm": {
     "name": "#%% md\n",
     "is_executing": false
    }
   }
  },
  {
   "cell_type": "code",
   "execution_count": 4,
   "outputs": [],
   "source": [
    "from getpass import getpass \n",
    "\n",
    "username = input(\"Username: \")\n",
    "password = getpass(\"Password: \")"
   ],
   "metadata": {
    "collapsed": false,
    "pycharm": {
     "name": "#%%\n",
     "is_executing": false
    }
   }
  },
  {
   "cell_type": "markdown",
   "source": [
    "## The first issue: Invalid FHIR response\n",
    "\n",
    "Try to reach the CodeSystem loinc at https://fhir.loinc.org/CodeSystem/loinc. The FHIR api returns the \n",
    "content. However, the data returned doesn't conform to the FHIR 3.0.1 standard. fhirclient throws a\n",
    "FHIRValidationError. \n",
    "\n",
    "The problem is that in the response from the LOINC FHIR server, the first two CodeSystem.property has no required \"type\" field. \n",
    "\n",
    "The data looks like below. As you can see, in the first two \"property\", there's no \"type\", which makes them invalid.  \n",
    "\n",
    "```\n",
    "{\n",
    "  resourceType: \"CodeSystem\",\n",
    "  ...\n",
    "  property: [\n",
    "    {\n",
    "      code: \"parent\",\n",
    "      uri: \"http://hl7.org/fhir/concept-properties#parent\",\n",
    "      description: \"A parent code in the Multiaxial Hierarchy\"\n",
    "    },\n",
    "    {\n",
    "      code: \"child\",\n",
    "      uri: \"http://hl7.org/fhir/concept-properties#child\",\n",
    "      description: \"A child code in the Multiaxial Hierarchy\"\n",
    "    },\n",
    "    {\n",
    "      code: \"STATUS\",\n",
    "      uri: \"http://loinc.org/property/STATUS\",\n",
    "      description: \"Status of the term. Within LOINC, codes with STATUS=DEPRECATED are considered inactive. Current values: ACTIVE, TRIAL, DISCOURAGED, and DEPRECATED\",\n",
    "      type: \"string\"\n",
    "    },\n",
    "    ...\n",
    "  ]\n",
    "}\n",
    "```\n",
    "\n",
    "Here's a code snippet that catches the error and fail to instantiate an object from the response. "
   ],
   "metadata": {
    "collapsed": false,
    "pycharm": {
     "name": "#%% md\n",
     "is_executing": false
    }
   }
  },
  {
   "cell_type": "code",
   "execution_count": 5,
   "outputs": [
    {
     "name": "stdout",
     "text": [
      "a different error\n"
     ],
     "output_type": "stream"
    },
    {
     "traceback": [
      "\u001b[0;31m---------------------------------------------------------------------------\u001b[0m",
      "\u001b[0;31mNameError\u001b[0m                                 Traceback (most recent call last)",
      "\u001b[0;32m<ipython-input-5-73aec6027823>\u001b[0m in \u001b[0;36m<module>\u001b[0;34m\u001b[0m\n\u001b[1;32m     12\u001b[0m   \u001b[0;32mexcept\u001b[0m\u001b[0;34m:\u001b[0m\u001b[0;34m\u001b[0m\u001b[0;34m\u001b[0m\u001b[0m\n\u001b[1;32m     13\u001b[0m     \u001b[0mprint\u001b[0m\u001b[0;34m(\u001b[0m\u001b[0;34m\"a different error\"\u001b[0m\u001b[0;34m)\u001b[0m\u001b[0;34m\u001b[0m\u001b[0;34m\u001b[0m\u001b[0m\n\u001b[0;32m---> 14\u001b[0;31m   \u001b[0mprint\u001b[0m\u001b[0;34m(\u001b[0m\u001b[0;34mf\"Title: {loinc.title}\"\u001b[0m\u001b[0;34m)\u001b[0m\u001b[0;34m\u001b[0m\u001b[0;34m\u001b[0m\u001b[0m\n\u001b[0m\u001b[1;32m     15\u001b[0m   \u001b[0mprint\u001b[0m\u001b[0;34m(\u001b[0m\u001b[0;34mf\"Description: {loinc.description}\"\u001b[0m\u001b[0;34m)\u001b[0m\u001b[0;34m\u001b[0m\u001b[0;34m\u001b[0m\u001b[0m\n\u001b[1;32m     16\u001b[0m \u001b[0;32melse\u001b[0m\u001b[0;34m:\u001b[0m\u001b[0;34m\u001b[0m\u001b[0;34m\u001b[0m\u001b[0m\n",
      "\u001b[0;31mNameError\u001b[0m: name 'loinc' is not defined"
     ],
     "ename": "NameError",
     "evalue": "name 'loinc' is not defined",
     "output_type": "error"
    }
   ],
   "source": [
    "from fhirclient.models.fhirabstractbase import FHIRValidationError\n",
    "\n",
    "auth = FHIRBasicAuth(None, username, password)\n",
    "fhir = FHIRAuthServer(None, base_uri='https://fhir.loinc.org', state=None, auth=auth)\n",
    "fhir.prepare() \n",
    "if fhir.ready:\n",
    "  import fhirclient.models.codesystem as c\n",
    "  try:\n",
    "    loinc = c.CodeSystem.read('loinc', fhir)\n",
    "  except FHIRValidationError as e:\n",
    "    print(f\"Validation error: {str(e)}\")\n",
    "  except: \n",
    "    print(\"a different error\")\n",
    "  print(f\"Title: {loinc.title}\")\n",
    "  print(f\"Description: {loinc.description}\")\n",
    "else:\n",
    "  print(f\"Server is not ready\")\n",
    "\n"
   ],
   "metadata": {
    "collapsed": false,
    "pycharm": {
     "name": "#%%\n",
     "is_executing": false
    }
   }
  }
 ],
 "metadata": {
  "language_info": {
   "codemirror_mode": {
    "name": "ipython",
    "version": 2
   },
   "file_extension": ".py",
   "mimetype": "text/x-python",
   "name": "python",
   "nbconvert_exporter": "python",
   "pygments_lexer": "ipython2",
   "version": "2.7.6"
  },
  "kernelspec": {
   "name": "python3",
   "language": "python",
   "display_name": "Python 3"
  },
  "pycharm": {
   "stem_cell": {
    "cell_type": "raw",
    "source": [],
    "metadata": {
     "collapsed": false
    }
   }
  }
 },
 "nbformat": 4,
 "nbformat_minor": 0
}