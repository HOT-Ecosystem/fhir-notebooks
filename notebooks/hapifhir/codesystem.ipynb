{
 "cells": [
  {
   "cell_type": "markdown",
   "metadata": {
    "collapsed": true,
    "pycharm": {
     "name": "#%% md\n"
    }
   },
   "source": [
    "# CodeSystem with Hapi FHIR\n",
    "\n",
    "The code snippets in this notebook demonstrates how to use [Hapi](https://hapifhir.io) to create and update a FHIR CodeSystem."
   ]
  },
  {
   "cell_type": "code",
   "execution_count": 1,
   "metadata": {
    "pycharm": {
     "name": "#%%\n"
    }
   },
   "outputs": [
    {
     "name": "stdout",
     "output_type": "stream",
     "text": [
      ":: problems summary ::\n",
      ":::: ERRORS\n",
      "\tunknown resolver maven\n",
      "\n",
      "\tunknown resolver maven\n",
      "\n",
      "\tunknown resolver maven\n",
      "\n",
      "\tunknown resolver maven\n",
      "\n",
      "\tunknown resolver maven\n",
      "\n",
      "\tunknown resolver maven\n",
      "\n",
      "\tunknown resolver maven\n",
      "\n",
      "\tunknown resolver maven\n",
      "\n",
      "\tunknown resolver maven\n",
      "\n",
      "\tunknown resolver maven\n",
      "\n",
      "\tunknown resolver maven\n",
      "\n",
      "\tunknown resolver maven\n",
      "\n",
      "\tunknown resolver maven\n",
      "\n",
      "\tunknown resolver maven\n",
      "\n",
      "\tunknown resolver maven\n",
      "\n",
      "\tunknown resolver maven\n",
      "\n"
     ]
    }
   ],
   "source": [
    "%%loadFromPOM\n",
    "<dependency>\n",
    "    <groupId>ca.uhn.hapi.fhir</groupId>\n",
    "    <artifactId>hapi-fhir-structures-r4</artifactId>\n",
    "    <version>4.0.3</version>\n",
    "</dependency>"
   ]
  },
  {
   "cell_type": "code",
   "execution_count": 5,
   "metadata": {},
   "outputs": [],
   "source": [
    "import org.hl7.fhir.r4.model.CodeSystem;\n",
    "import org.hl7.fhir.r4.model.Meta;\n",
    "import ca.uhn.fhir.context.FhirContext;"
   ]
  },
  {
   "cell_type": "code",
   "execution_count": 6,
   "metadata": {},
   "outputs": [
    {
     "data": {
      "text/plain": [
       "CodeSystem[http://stato-ontology.org/]"
      ]
     },
     "execution_count": 6,
     "metadata": {},
     "output_type": "execute_result"
    }
   ],
   "source": [
    "// Create a simple CodeSystem instance\n",
    "\n",
    "CodeSystem cs = new CodeSystem();\n",
    "Meta meta = new Meta();\n",
    "meta.setVersionId(\"RC1.4\");\n",
    "cs.setId(\"stato\");\n",
    "cs.setTitle(\"STATO: the statistical methods ontology\");\n",
    "cs.setUrl(\"http://stato-ontology.org/\");\n",
    "cs.setMeta(meta);"
   ]
  },
  {
   "cell_type": "code",
   "execution_count": 7,
   "metadata": {
    "pycharm": {
     "name": "#%%\n"
    }
   },
   "outputs": [
    {
     "name": "stderr",
     "output_type": "stream",
     "text": [
      "SLF4J: Failed to load class \"org.slf4j.impl.StaticLoggerBinder\".\n",
      "SLF4J: Defaulting to no-operation (NOP) logger implementation\n",
      "SLF4J: See http://www.slf4j.org/codes.html#StaticLoggerBinder for further details.\n"
     ]
    },
    {
     "name": "stdout",
     "output_type": "stream",
     "text": [
      "{\n",
      "  \"resourceType\": \"CodeSystem\",\n",
      "  \"id\": \"stato\",\n",
      "  \"meta\": {\n",
      "    \"versionId\": \"RC1.4\"\n",
      "  },\n",
      "  \"url\": \"http://stato-ontology.org/\",\n",
      "  \"title\": \"STATO: the statistical methods ontology\"\n",
      "}\n"
     ]
    }
   ],
   "source": [
    "// Encode the CodeSystem into json\n",
    "FhirContext ctxR4 = FhirContext.forR4();\n",
    "String encoded = ctxR4.newJsonParser().setPrettyPrint(true).encodeResourceToString(cs);\n",
    "System.out.println(encoded);\n",
    "\n",
    "\n"
   ]
  }
 ],
 "metadata": {
  "kernelspec": {
   "display_name": "Java",
   "language": "java",
   "name": "java"
  },
  "language_info": {
   "codemirror_mode": "java",
   "file_extension": ".jshell",
   "mimetype": "text/x-java-source",
   "name": "Java",
   "pygments_lexer": "java",
   "version": "11.0.4+11-LTS"
  },
  "pycharm": {
   "stem_cell": {
    "cell_type": "raw",
    "source": [],
    "metadata": {
     "collapsed": false
    }
   }
  }
 },
 "nbformat": 4,
 "nbformat_minor": 1
}