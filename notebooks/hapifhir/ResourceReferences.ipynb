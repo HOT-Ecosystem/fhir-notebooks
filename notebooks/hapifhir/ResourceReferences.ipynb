{
 "cells": [
  {
   "cell_type": "markdown",
   "metadata": {},
   "source": [
    "# Resource References\n",
    "\n",
    "This page is copied from https://hapifhir.io/doc_resource_references.html\n",
    "\n",
    "As the original page doesn't show the version of hapi api is being used, there're several code snippets with inconsistent programming interface references. It causes some of the code not runnable or with compile errors. Thoses errors are corrected in this notebook. This demonstrates the value of Jupyter notebooks where you can verify the code to be valid in action. \n",
    "\n",
    "Resource references are a key part of the HAPI FHIR model, since almost any resource will have references to other resources within it.\n",
    "\n",
    "The ResourceReferenceDt type is the datatype for references. This datatype has a number of properties which help make working with FHIR simple.\n",
    "\n",
    "The getReference() method returns an IdDt instance which contains the identity of the resource being referenced. This is the item which is most commonly populated when interacting with FHIR. For example, consider the following Patient resource, which contains a reference to an Organization resource:\n",
    "\n",
    "```xml\n",
    "<Patient xmlns=\"http://hl7.org/fhir\">\n",
    "   <identifier>\n",
    "      <system value=\"urn:mrns\"/>\n",
    "      <value value=\"253345\"/>\n",
    "   </identifier>\n",
    "   <managingOrganization>\n",
    "      <reference value=\"Organization/112\"/>\n",
    "   </managingOrganization>\n",
    "</Patient>\n",
    "```\n",
    "\n",
    "Given a Patient resource obtained by invoking a client operation, a call to `IdDt ref = patient.getManagingOrganization().getReference();` returns an instance of IdDt which contains the \"Organization/112\" reference.\n",
    "\n",
    "ResourceReferenceDt also has a field for storing actual resource instances however, and this can be very useful."
   ]
  },
  {
   "cell_type": "markdown",
   "metadata": {},
   "source": [
    "## Load required libraries"
   ]
  },
  {
   "cell_type": "code",
   "execution_count": 27,
   "metadata": {},
   "outputs": [],
   "source": [
    "%%loadFromPOM\n",
    "<dependency>\n",
    "    <groupId>ca.uhn.hapi.fhir</groupId>\n",
    "    <artifactId>hapi-fhir-structures-r4</artifactId>\n",
    "    <version>4.0.3</version>\n",
    "</dependency>"
   ]
  },
  {
   "cell_type": "markdown",
   "metadata": {},
   "source": [
    "# References in Server Code\n",
    "\n",
    "In server code, you will often want to return a resource which contains a link to another resource. Generally these \"linked\" resources are not actually included in the response, but rather a link to the resource is included and the client may request that resource directly (by ID) if it is needed.\n",
    "\n",
    "The following example shows a Patient resource being created which will have a link to its managing organization when encoded from a server:\n",
    "\n"
   ]
  },
  {
   "cell_type": "code",
   "execution_count": 28,
   "metadata": {},
   "outputs": [],
   "source": [
    "import ca.uhn.fhir.context.FhirContext;\n",
    "FhirContext ctxR4 = FhirContext.forR4();"
   ]
  },
  {
   "cell_type": "code",
   "execution_count": 29,
   "metadata": {},
   "outputs": [
    {
     "name": "stdout",
     "output_type": "stream",
     "text": [
      "<Patient xmlns=\"http://hl7.org/fhir\">\n",
      "   <id value=\"1333\"></id>\n",
      "   <identifier>\n",
      "      <system value=\"urn:mrns\"></system>\n",
      "      <value value=\"253345\"></value>\n",
      "   </identifier>\n",
      "   <managingOrganization>\n",
      "      <reference value=\"Organization/124362\"></reference>\n",
      "   </managingOrganization>\n",
      "</Patient>\n"
     ]
    }
   ],
   "source": [
    "import org.hl7.fhir.r4.model.Patient;\n",
    "Patient patient = new Patient();\n",
    "patient.setId(\"Patient/1333\");\n",
    "patient.addIdentifier().setSystem(\"urn:mrns\").setValue(\"253345\");\n",
    "patient.getManagingOrganization().setReference(\"Organization/124362\");\n",
    "String encoded = ctxR4.newXmlParser().setPrettyPrint(true).encodeResourceToString(patient);\n",
    "System.out.println(encoded);"
   ]
  },
  {
   "cell_type": "markdown",
   "metadata": {},
   "source": [
    "### Handling Includes (_include) in a Bundle\n",
    "\n",
    "Your server code may also wish to add additional resource to a bundle being returned (e.g. because of an _include directive in the client's request).\n",
    "\n",
    "To do this, you can implement your server method to simply return `List<IResource>` and then simply add your extra resources to the list. Another technique however, is to populate the reference as shown in the example below, but ensure that the referenced resource has an ID set.\n",
    "\n",
    "In the following example, the Organization resource has an ID set, so it will not be contained but will rather appear as a distinct entry in any returned bundles. Both resources are added to a bundle, which will then have two entries:"
   ]
  },
  {
   "cell_type": "code",
   "execution_count": 42,
   "metadata": {},
   "outputs": [],
   "source": [
    "import org.hl7.fhir.instance.model.api.IBaseResource;\n",
    "import org.hl7.fhir.r4.model.Organization;\n",
    "import org.hl7.fhir.r4.model.Bundle;\n",
    "import org.hl7.fhir.r4.model.Bundle.BundleType;\n",
    "import org.hl7.fhir.r4.model.Bundle.BundleEntryComponent;\n",
    "import org.hl7.fhir.r4.model.Resource;\n",
    "import ca.uhn.fhir.rest.annotation.Search;\n",
    "\n",
    "@Search\n",
    "private List<Resource> searchForPatients() {\n",
    "   // Create an organization\n",
    "   Organization org = new Organization();\n",
    "   org.setId(\"Organization/65546\");\n",
    "   org.setName(\"Test Organization\");\n",
    " \n",
    "   // Create a patient\n",
    "   Patient patient = new Patient();\n",
    "   patient.setId(\"Patient/1333\");\n",
    "   patient.addIdentifier().setSystem(\"urn:mrns\").setValue(\"253345\");\n",
    "   patient.getManagingOrganization().setResource(org);\n",
    " \n",
    "   // Here we return only the patient object, which has links to other resources\n",
    "   List<Resource> retVal = new ArrayList<Resource>();\n",
    "   retVal.add(patient);\n",
    "   return retVal;\n",
    "}\n"
   ]
  },
  {
   "cell_type": "markdown",
   "metadata": {},
   "source": [
    "### Contained Resources\n",
    "\n",
    "On the other hand, if the linked resource does not have an ID set, the linked resource will be included in the returned bundle as a \"contained\" resource. In this case, HAPI itself will define a local reference ID (e.g. \"#1\")."
   ]
  },
  {
   "cell_type": "code",
   "execution_count": 31,
   "metadata": {},
   "outputs": [
    {
     "name": "stdout",
     "output_type": "stream",
     "text": [
      "<Patient xmlns=\"http://hl7.org/fhir\">\n",
      "   <id value=\"1333\"></id>\n",
      "   <contained>\n",
      "      <Organization xmlns=\"http://hl7.org/fhir\">\n",
      "         <id value=\"1\"></id>\n",
      "         <name value=\"Contained Test Organization\"></name>\n",
      "      </Organization>\n",
      "   </contained>\n",
      "   <identifier>\n",
      "      <system value=\"urn:mrns\"></system>\n",
      "      <value value=\"253345\"></value>\n",
      "   </identifier>\n",
      "   <managingOrganization>\n",
      "      <reference value=\"#1\"></reference>\n",
      "   </managingOrganization>\n",
      "</Patient>\n"
     ]
    }
   ],
   "source": [
    "// Create an organization, note that the organization does not have an ID\n",
    "Organization org = new Organization();\n",
    "org.setName(\"Contained Test Organization\");\n",
    " \n",
    "Patient patient = new Patient();\n",
    "patient.setId(\"Patient/1333\");\n",
    "patient.addIdentifier().setSystem(\"urn:mrns\").setValue(\"253345\"); \n",
    "// Put the organization as a reference in the patient resource\n",
    "patient.getManagingOrganization().setResource(org);\n",
    " \n",
    "String encoded = ctxR4.newXmlParser().setPrettyPrint(true).encodeResourceToString(patient);\n",
    "System.out.println(encoded);"
   ]
  },
  {
   "cell_type": "markdown",
   "metadata": {},
   "source": [
    "Note that you may also \"contain\" resources manually in your own code if you prefer. The following example show how to do this:"
   ]
  },
  {
   "cell_type": "code",
   "execution_count": 32,
   "metadata": {},
   "outputs": [
    {
     "name": "stdout",
     "output_type": "stream",
     "text": [
      "<Patient xmlns=\"http://hl7.org/fhir\">\n",
      "   <id value=\"1333\"></id>\n",
      "   <contained>\n",
      "      <Organization xmlns=\"http://hl7.org/fhir\">\n",
      "         <id value=\"localOrganization\"></id>\n",
      "         <name value=\"Contained Test Organization\"></name>\n",
      "      </Organization>\n",
      "   </contained>\n",
      "   <identifier>\n",
      "      <system value=\"urn:mrns\"></system>\n",
      "      <value value=\"253345\"></value>\n",
      "   </identifier>\n",
      "   <managingOrganization>\n",
      "      <reference value=\"#localOrganization\"></reference>\n",
      "   </managingOrganization>\n",
      "</Patient>\n"
     ]
    }
   ],
   "source": [
    "// Create an organization, and give it a local ID\n",
    "Organization org = new Organization();\n",
    "org.setId(\"#localOrganization\");\n",
    "org.getNameElement().setValue(\"Contained Test Organization\");\n",
    " \n",
    "// Create a patient\n",
    "Patient patient = new Patient();\n",
    "patient.setId(\"Patient/1333\");\n",
    "patient.addIdentifier().setSystem(\"urn:mrns\").setValue(\"253345\");\n",
    " \n",
    "// Set the reference, and manually add the contained resource\n",
    "patient.getManagingOrganization().setReference(\"#localOrganization\");\n",
    "patient.getContained().add(org);\n",
    " \n",
    "String encoded = ctxR4.newXmlParser().setPrettyPrint(true).encodeResourceToString(patient);\n",
    "System.out.println(encoded);"
   ]
  },
  {
   "cell_type": "code",
   "execution_count": null,
   "metadata": {},
   "outputs": [],
   "source": []
  }
 ],
 "metadata": {
  "kernelspec": {
   "display_name": "Java",
   "language": "java",
   "name": "java"
  },
  "language_info": {
   "codemirror_mode": "java",
   "file_extension": ".jshell",
   "mimetype": "text/x-java-source",
   "name": "Java",
   "pygments_lexer": "java",
   "version": "11.0.4+11-LTS"
  }
 },
 "nbformat": 4,
 "nbformat_minor": 2
}
