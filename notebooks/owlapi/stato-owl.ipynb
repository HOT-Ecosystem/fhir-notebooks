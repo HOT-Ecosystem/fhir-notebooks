{
 "cells": [
  {
   "cell_type": "markdown",
   "metadata": {
    "collapsed": true,
    "pycharm": {
     "name": "#%% md\n"
    }
   },
   "source": [
    "# STATO OWL with OWLAPI "
   ]
  },
  {
   "cell_type": "markdown",
   "metadata": {},
   "source": [
    "Here are examples of using [OWLAPI](http://owlcs.github.io/owlapi/) to process [STATO, the statistical methods ontology](https://www.ebi.ac.uk/ols/ontologies/stato). "
   ]
  },
  {
   "cell_type": "code",
   "execution_count": 4,
   "metadata": {
    "pycharm": {
     "name": "#%%   \n"
    }
   },
   "outputs": [],
   "source": [
    "%%loadFromPOM\n",
    "<!-- Use %%loadFromPOM instead of %maven. For some reason, the latter does not load guava correctly. -->\n",
    "<dependency>\n",
    "    <groupId>net.sourceforge.owlapi</groupId>\n",
    "    <artifactId>owlapi-distribution</artifactId>\n",
    "    <version>5.1.11</version>\n",
    "</dependency>"
   ]
  },
  {
   "cell_type": "code",
   "execution_count": 3,
   "metadata": {},
   "outputs": [],
   "source": [
    "import org.semanticweb.owlapi.apibinding.OWLManager;\n",
    "import org.semanticweb.owlapi.model.*;\n",
    "import org.semanticweb.owlapi.vocab.DublinCoreVocabulary;\n",
    "import org.semanticweb.owlapi.vocab.OWLRDFVocabulary;"
   ]
  },
  {
   "cell_type": "code",
   "execution_count": 5,
   "metadata": {},
   "outputs": [
    {
     "name": "stderr",
     "output_type": "stream",
     "text": [
      "SLF4J: Failed to load class \"org.slf4j.impl.StaticLoggerBinder\".\n",
      "SLF4J: Defaulting to no-operation (NOP) logger implementation\n",
      "SLF4J: See http://www.slf4j.org/codes.html#StaticLoggerBinder for further details.\n"
     ]
    }
   ],
   "source": [
    "import java.net.URI;\n",
    "URI uri = new URI(\"http://purl.obolibrary.org/obo/stato.owl\");\n",
    "IRI iri = IRI.create(uri);"
   ]
  },
  {
   "cell_type": "code",
   "execution_count": 6,
   "metadata": {},
   "outputs": [],
   "source": [
    "// load the ontology\n",
    "OWLOntologyManager manager = OWLManager.createOWLOntologyManager();\n",
    "OWLOntology onto = manager.loadOntology(iri);"
   ]
  },
  {
   "cell_type": "code",
   "execution_count": 8,
   "metadata": {},
   "outputs": [
    {
     "name": "stdout",
     "output_type": "stream",
     "text": [
      "Title: STATO: the statistical methods ontology\n",
      "Version: RC1.4\n"
     ]
    }
   ],
   "source": [
    "// Retreive annotations\n",
    "onto.annotations().forEach((ann) -> {\n",
    "    IRI propIRI = ann.getProperty().getIRI();\n",
    "    OWLLiteral value = (OWLLiteral) ann.getValue();\n",
    "    if (propIRI.equals(DublinCoreVocabulary.TITLE.getIRI())) {\n",
    "        System.out.println(\"Title: \" + value.getLiteral());\n",
    "    } else if (propIRI.equals(OWLRDFVocabulary.OWL_VERSION_INFO.getIRI())) {\n",
    "        System.out.println(\"Version: \" + value.getLiteral());\n",
    "    }\n",
    "});"
   ]
  },
  {
   "cell_type": "markdown",
   "metadata": {},
   "source": [
    "## Traversing \n",
    "\n",
    "To traverse the ontology, first you need to include the reasoners. OWLAPI uses hermitIt reasoner. "
   ]
  },
  {
   "cell_type": "code",
   "execution_count": 17,
   "metadata": {},
   "outputs": [],
   "source": [
    "%%loadFromPOM\n",
    "<dependency>\n",
    "    <groupId>net.sourceforge.owlapi</groupId>\n",
    "    <artifactId>org.semanticweb.hermit</artifactId>\n",
    "    <version>1.4.3.517</version>\n",
    "</dependency>"
   ]
  },
  {
   "cell_type": "code",
   "execution_count": 18,
   "metadata": {},
   "outputs": [],
   "source": [
    "import org.semanticweb.owlapi.reasoner.NodeSet;\n",
    "import org.semanticweb.owlapi.reasoner.OWLReasoner;\n",
    "import org.semanticweb.owlapi.reasoner.OWLReasonerFactory;\n",
    "import org.semanticweb.owlapi.search.EntitySearcher;\n",
    "import org.semanticweb.HermiT.ReasonerFactory;\n",
    "\n",
    "// Traverse the entities and print the hierarchy defined in the ontology\n",
    "public static void printHierarchy(OWLReasoner reasoner, OWLClass owlClass, int level, Set<OWLClass> visited) {\n",
    "    if (!visited.contains(owlClass) && reasoner.isSatisfiable(owlClass)) {\n",
    "        visited.add(owlClass);\n",
    "        for (int i = 0; i < level * 4; i++) {\n",
    "            System.out.print(\" \");\n",
    "        }\n",
    "        System.out.println(labelFor(owlClass, reasoner.getRootOntology()));\n",
    "\n",
    "        NodeSet<OWLClass> classNodeSet = reasoner.getSubClasses(owlClass, true);\n",
    "        for (OWLClass child: classNodeSet.getFlattened()) {\n",
    "            printHierarchy(reasoner, child, level+1, visited);\n",
    "        }\n",
    "    }\n",
    "}\n",
    "\n",
    "// Extracts the label from the entity annotations\n",
    "private static String labelFor(OWLClass clazz, OWLOntology o) {\n",
    "    OWLAnnotationObjectVisitorEx<String> visitor = new OWLAnnotationObjectVisitorEx<String>() {\n",
    "        String value;\n",
    "        @Override\n",
    "        public String visit(OWLAnnotation node) {\n",
    "            if (node.getProperty().isLabel()) {\n",
    "                return ((OWLLiteral) node.getValue()).getLiteral();\n",
    "            }\n",
    "            return null;\n",
    "        }\n",
    "    };\n",
    "    return EntitySearcher.getAnnotations(clazz, o)  \n",
    "            .map(anno -> anno.accept(visitor))\n",
    "            .filter(value -> value != null)\n",
    "            .findFirst()\n",
    "            .orElse(clazz.getIRI().toString());\n",
    "}"
   ]
  },
  {
   "cell_type": "code",
   "execution_count": 19,
   "metadata": {},
   "outputs": [
    {
     "name": "stdout",
     "output_type": "stream",
     "text": [
      "entity\n",
      "    continuant\n",
      "        specifically dependent continuant\n",
      "            realizable entity\n",
      "                role\n",
      "                    reagent role\n",
      "                    participant under investigation role\n",
      "                    measurand role\n",
      "                        analyte role\n",
      "                    material to be added role\n",
      "                        cloning vector role\n",
      "                    molecular label role\n",
      "                        dye role\n",
      "                    experimental unit role\n",
      "                    cloning insert role\n",
      "                    target of material addition role\n",
      "                    specimen role\n",
      "                        material sample role\n",
      "                    evaluant role\n",
      "                disposition\n",
      "                    function\n",
      "                        material separation function\n",
      "                            sort function\n",
      "                            filter function\n",
      "                        heat function\n",
      "                        contain function\n",
      "                        environment control function\n",
      "                        solid support function\n",
      "                        measure function\n",
      "                        cool function\n",
      "                        excitation function\n",
      "                            light emission function\n",
      "                    fluorescence\n",
      "                blocking variable\n",
      "            quality\n",
      "                information carrier\n",
      "                phenotype\n",
      "                mass\n",
      "        generically dependent continuant\n",
      "            region\n",
      "                primary structure of DNA macromolecule\n",
      "            information content entity\n",
      "                digital file\n",
      "                hypothesis\n",
      "                    absence of difference hypothesis\n",
      "                    odds ratio homogeneity hypothesis\n",
      "                    null hypothesis\n",
      "                    absence of association hypothesis\n",
      "                    homoskedasticity hypothesis\n",
      "                    absence of positive difference hypothesis\n",
      "                        absence of enrichment hypothesis\n",
      "                    absence of negative difference hypothesis\n",
      "                        absence of depletion hypothesis\n",
      "                    absence of within subject difference hypothesis\n",
      "                    absence of between group difference hypothesis\n",
      "                    response variable explained by interaction effect of predictor variables hypothesis\n",
      "                    response variable explained by fixed effect of predictor variable hypothesis\n",
      "                    alternative hypothesis\n",
      "                    sphericity hypothesis\n",
      "                    response variable explained by random effect of predictor variable hypothesis\n",
      "                    presence of association hypothesis\n",
      "                    presence of between group difference hypothesis\n",
      "                    goodness of fit hypothesis\n",
      "                        normal distribution hypothesis\n",
      "                        Hardy-Weinberg equilibrium hypothesis\n",
      "                contingency table\n",
      "                    2 by n contingency table\n",
      "                    2 by 2 contingency table\n",
      "                data distribution\n",
      "                conclusion based on data\n",
      "                    conclusion textual entity\n",
      "                centrally registered identifier\n",
      "                directive information entity\n",
      "                    plan specification\n",
      "                        protocol\n",
      "                        algorithm\n",
      "                        study design\n",
      "                            block design\n",
      "                                randomized complete block design\n",
      "                                    graeco-latin square design\n",
      "                                    hyper graeco latin square design\n",
      "                                    graeco latin square design\n",
      "                                    latin square design\n",
      "                                dye swap design\n",
      "                                matched pairs design\n",
      "                                cross over design\n",
      "                                restricted randomized design\n",
      "                                    split-plot design\n",
      "                                        split split plot design\n",
      "                            completely randomized design\n",
      "                            genotyping design\n",
      "                            parallel group design\n",
      "                                case-control study design\n",
      "                            factorial design\n",
      "                                full factorial design\n",
      "                                    2x2 factorial design\n",
      "                                fractional factorial design\n",
      "                            intervention design\n",
      "                                repeated measure design\n",
      "                            observation design\n",
      "                            time series design\n",
      "                            group sequential design\n",
      "                            single factor design\n",
      "                            Plackett-Burman design\n",
      "                            Box–Behnkens design\n",
      "                            augmented experimental design\n",
      "                            central composite design\n",
      "                            balanced design\n",
      "                    objective specification\n",
      "                        material maintenance objective\n",
      "                        data transformation objective\n",
      "                            survival analysis objective\n",
      "                            genomic selection objective\n",
      "                            partitioning objective\n",
      "                            differential expression analysis objective\n",
      "                            group comparison objective\n",
      "                            descriptive statistical calculation objective\n",
      "                            center calculation objective\n",
      "                            averaging objective\n",
      "                "
     ]
    },
    {
     "name": "stderr",
     "output_type": "stream",
     "text": [
      "IOPub message rate exceeded.\n",
      "The notebook server will temporarily stop sending output\n",
      "to the client in order to avoid crashing it.\n",
      "To change this limit, set the config variable\n",
      "`--NotebookApp.iopub_msg_rate_limit`.\n",
      "\n",
      "Current values:\n",
      "NotebookApp.iopub_msg_rate_limit=1000.0 (msgs/sec)\n",
      "NotebookApp.rate_limit_window=3.0 (secs)\n",
      "\n"
     ]
    }
   ],
   "source": [
    "ReasonerFactory factory = new ReasonerFactory();\n",
    "OWLReasoner r = factory.createReasoner(onto);\n",
    "Set<OWLClass> visited = new HashSet<>();\n",
    "onto.classesInSignature().forEach(en -> {\n",
    "    printHierarchy(r, en, 0, visited);\n",
    "});"
   ]
  },
  {
   "cell_type": "code",
   "execution_count": null,
   "metadata": {},
   "outputs": [],
   "source": []
  }
 ],
 "metadata": {
  "kernelspec": {
   "display_name": "Java",
   "language": "java",
   "name": "java"
  },
  "language_info": {
   "codemirror_mode": "java",
   "file_extension": ".jshell",
   "mimetype": "text/x-java-source",
   "name": "Java",
   "pygments_lexer": "java",
   "version": "11.0.4+11-LTS"
  },
  "pycharm": {
   "stem_cell": {
    "cell_type": "raw",
    "metadata": {
     "collapsed": false
    },
    "source": []
   }
  }
 },
 "nbformat": 4,
 "nbformat_minor": 1
}
