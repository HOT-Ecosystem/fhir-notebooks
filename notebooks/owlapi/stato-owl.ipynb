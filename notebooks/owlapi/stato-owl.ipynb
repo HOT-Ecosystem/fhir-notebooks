{
 "cells": [
  {
   "cell_type": "markdown",
   "metadata": {
    "collapsed": true,
    "pycharm": {
     "name": "#%% md\n"
    }
   },
   "source": [
    "# STATO OWL with OWLAPI "
   ]
  },
  {
   "cell_type": "markdown",
   "metadata": {},
   "source": [
    "Here are examples of using [OWLAPI](http://owlcs.github.io/owlapi/) to process [STATO, the statistical methods ontology](https://www.ebi.ac.uk/ols/ontologies/stato). "
   ]
  },
  {
   "cell_type": "code",
   "execution_count": 4,
   "metadata": {
    "pycharm": {
     "name": "#%%   \n"
    }
   },
   "outputs": [],
   "source": [
    "%%loadFromPOM\n",
    "<!-- Use %%loadFromPOM instead of %maven. For some reason, the latter does not load guava correctly. -->\n",
    "<dependency>\n",
    "    <groupId>net.sourceforge.owlapi</groupId>\n",
    "    <artifactId>owlapi-distribution</artifactId>\n",
    "    <version>5.1.11</version>\n",
    "</dependency>"
   ]
  },
  {
   "cell_type": "code",
   "execution_count": 9,
   "metadata": {},
   "outputs": [],
   "source": [
    "import org.semanticweb.owlapi.apibinding.OWLManager;\n",
    "import org.semanticweb.owlapi.model.*;\n",
    "import org.semanticweb.owlapi.vocab.DublinCoreVocabulary;\n",
    "import org.semanticweb.owlapi.vocab.OWLRDFVocabulary;"
   ]
  },
  {
   "cell_type": "code",
   "execution_count": 6,
   "metadata": {},
   "outputs": [],
   "source": [
    "import java.net.URI;\n",
    "URI uri = new URI(\"http://purl.obolibrary.org/obo/stato.owl\");\n",
    "IRI iri = IRI.create(uri);"
   ]
  },
  {
   "cell_type": "code",
   "execution_count": 7,
   "metadata": {},
   "outputs": [],
   "source": [
    "// load the ontology\n",
    "OWLOntologyManager manager = OWLManager.createOWLOntologyManager();\n",
    "OWLOntology onto = manager.loadOntology(iri);"
   ]
  },
  {
   "cell_type": "code",
   "execution_count": 12,
   "metadata": {},
   "outputs": [
    {
     "name": "stdout",
     "output_type": "stream",
     "text": [
      "Title: STATO: the statistical methods ontology\n",
      "Version: RC1.4\n"
     ]
    }
   ],
   "source": [
    "// Retreive annotations\n",
    "onto.annotations().forEach((ann) -> {\n",
    "    IRI propIRI = ann.getProperty().getIRI();\n",
    "    OWLLiteral value = (OWLLiteral) ann.getValue();\n",
    "    if (propIRI.equals(DublinCoreVocabulary.TITLE.getIRI())) {\n",
    "        System.out.println(\"Title: \" + value.getLiteral());\n",
    "    } else if (propIRI.equals(OWLRDFVocabulary.OWL_VERSION_INFO.getIRI())) {\n",
    "        System.out.println(\"Version: \" + value.getLiteral());\n",
    "    }\n",
    "});"
   ]
  },
  {
   "cell_type": "code",
   "execution_count": null,
   "metadata": {},
   "outputs": [],
   "source": []
  }
 ],
 "metadata": {
  "kernelspec": {
   "display_name": "Java",
   "language": "java",
   "name": "java"
  },
  "language_info": {
   "codemirror_mode": "java",
   "file_extension": ".jshell",
   "mimetype": "text/x-java-source",
   "name": "Java",
   "pygments_lexer": "java",
   "version": "11.0.4+11-LTS"
  },
  "pycharm": {
   "stem_cell": {
    "cell_type": "raw",
    "metadata": {
     "collapsed": false
    },
    "source": []
   }
  }
 },
 "nbformat": 4,
 "nbformat_minor": 1
}
